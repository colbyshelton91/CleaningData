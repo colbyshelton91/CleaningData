{
 "cells": [
  {
   "cell_type": "code",
   "execution_count": 20,
   "metadata": {},
   "outputs": [],
   "source": [
    "import pandas as pd\n",
    "import numpy as np\n",
    "import matplotlib.pyplot as plt\n",
    "from sqlalchemy import create_engine\n",
    "from scipy.stats.mstats import winsorize\n",
    "import warnings\n",
    "\n",
    "warnings.filterwarnings('ignore')"
   ]
  },
  {
   "cell_type": "code",
   "execution_count": 6,
   "metadata": {},
   "outputs": [],
   "source": [
    "postgres_user = 'dsbc_student'\n",
    "postgres_pw = '7*.8G9QH21'\n",
    "postgres_host = '142.93.121.174'\n",
    "postgres_port = '5432'\n",
    "postgres_db = 'useducation'\n",
    "\n",
    "engine = create_engine('postgresql://{}:{}@{}:{}/{}'.format(\n",
    "    postgres_user, postgres_pw, postgres_host, postgres_port, postgres_db))\n",
    "\n",
    "df = pd.read_sql_query('select * from useducation',con=engine)\n",
    "\n",
    "# no need for an open connection, \n",
    "# as we're only doing a single query\n",
    "engine.dispose()"
   ]
  },
  {
   "cell_type": "code",
   "execution_count": 7,
   "metadata": {},
   "outputs": [
    {
     "name": "stdout",
     "output_type": "stream",
     "text": [
      "<class 'pandas.core.frame.DataFrame'>\n",
      "RangeIndex: 1492 entries, 0 to 1491\n",
      "Data columns (total 25 columns):\n",
      "PRIMARY_KEY                     1492 non-null object\n",
      "STATE                           1492 non-null object\n",
      "YEAR                            1492 non-null int64\n",
      "ENROLL                          1229 non-null float64\n",
      "TOTAL_REVENUE                   1280 non-null float64\n",
      "FEDERAL_REVENUE                 1280 non-null float64\n",
      "STATE_REVENUE                   1280 non-null float64\n",
      "LOCAL_REVENUE                   1280 non-null float64\n",
      "TOTAL_EXPENDITURE               1280 non-null float64\n",
      "INSTRUCTION_EXPENDITURE         1280 non-null float64\n",
      "SUPPORT_SERVICES_EXPENDITURE    1280 non-null float64\n",
      "OTHER_EXPENDITURE               1229 non-null float64\n",
      "CAPITAL_OUTLAY_EXPENDITURE      1280 non-null float64\n",
      "GRADES_PK_G                     1319 non-null float64\n",
      "GRADES_KG_G                     1360 non-null float64\n",
      "GRADES_4_G                      1361 non-null float64\n",
      "GRADES_8_G                      1361 non-null float64\n",
      "GRADES_12_G                     1361 non-null float64\n",
      "GRADES_1_8_G                    1361 non-null float64\n",
      "GRADES_9_12_G                   1361 non-null float64\n",
      "GRADES_ALL_G                    1319 non-null float64\n",
      "AVG_MATH_4_SCORE                536 non-null float64\n",
      "AVG_MATH_8_SCORE                532 non-null float64\n",
      "AVG_READING_4_SCORE             533 non-null float64\n",
      "AVG_READING_8_SCORE             498 non-null float64\n",
      "dtypes: float64(22), int64(1), object(2)\n",
      "memory usage: 291.5+ KB\n"
     ]
    }
   ],
   "source": [
    "df.info()"
   ]
  },
  {
   "cell_type": "code",
   "execution_count": 13,
   "metadata": {},
   "outputs": [
    {
     "data": {
      "text/html": [
       "<div>\n",
       "<style scoped>\n",
       "    .dataframe tbody tr th:only-of-type {\n",
       "        vertical-align: middle;\n",
       "    }\n",
       "\n",
       "    .dataframe tbody tr th {\n",
       "        vertical-align: top;\n",
       "    }\n",
       "\n",
       "    .dataframe thead th {\n",
       "        text-align: right;\n",
       "    }\n",
       "</style>\n",
       "<table border=\"1\" class=\"dataframe\">\n",
       "  <thead>\n",
       "    <tr style=\"text-align: right;\">\n",
       "      <th></th>\n",
       "      <th>PRIMARY_KEY</th>\n",
       "      <th>STATE</th>\n",
       "      <th>YEAR</th>\n",
       "      <th>ENROLL</th>\n",
       "      <th>TOTAL_REVENUE</th>\n",
       "      <th>FEDERAL_REVENUE</th>\n",
       "      <th>STATE_REVENUE</th>\n",
       "      <th>LOCAL_REVENUE</th>\n",
       "      <th>TOTAL_EXPENDITURE</th>\n",
       "      <th>INSTRUCTION_EXPENDITURE</th>\n",
       "      <th>...</th>\n",
       "      <th>GRADES_4_G</th>\n",
       "      <th>GRADES_8_G</th>\n",
       "      <th>GRADES_12_G</th>\n",
       "      <th>GRADES_1_8_G</th>\n",
       "      <th>GRADES_9_12_G</th>\n",
       "      <th>GRADES_ALL_G</th>\n",
       "      <th>AVG_MATH_4_SCORE</th>\n",
       "      <th>AVG_MATH_8_SCORE</th>\n",
       "      <th>AVG_READING_4_SCORE</th>\n",
       "      <th>AVG_READING_8_SCORE</th>\n",
       "    </tr>\n",
       "  </thead>\n",
       "  <tbody>\n",
       "    <tr>\n",
       "      <th>0</th>\n",
       "      <td>1992_ALABAMA</td>\n",
       "      <td>ALABAMA</td>\n",
       "      <td>1992</td>\n",
       "      <td>NaN</td>\n",
       "      <td>2678885.0</td>\n",
       "      <td>304177.0</td>\n",
       "      <td>1659028.0</td>\n",
       "      <td>715680.0</td>\n",
       "      <td>2653798.0</td>\n",
       "      <td>1481703.0</td>\n",
       "      <td>...</td>\n",
       "      <td>57948.0</td>\n",
       "      <td>58025.0</td>\n",
       "      <td>41167.0</td>\n",
       "      <td>471564.0</td>\n",
       "      <td>196386.0</td>\n",
       "      <td>676174.0</td>\n",
       "      <td>208.327876</td>\n",
       "      <td>252.187522</td>\n",
       "      <td>207.963517</td>\n",
       "      <td>NaN</td>\n",
       "    </tr>\n",
       "    <tr>\n",
       "      <th>1</th>\n",
       "      <td>1992_ALASKA</td>\n",
       "      <td>ALASKA</td>\n",
       "      <td>1992</td>\n",
       "      <td>NaN</td>\n",
       "      <td>1049591.0</td>\n",
       "      <td>106780.0</td>\n",
       "      <td>720711.0</td>\n",
       "      <td>222100.0</td>\n",
       "      <td>972488.0</td>\n",
       "      <td>498362.0</td>\n",
       "      <td>...</td>\n",
       "      <td>9748.0</td>\n",
       "      <td>8789.0</td>\n",
       "      <td>6714.0</td>\n",
       "      <td>79117.0</td>\n",
       "      <td>30847.0</td>\n",
       "      <td>112335.0</td>\n",
       "      <td>NaN</td>\n",
       "      <td>NaN</td>\n",
       "      <td>NaN</td>\n",
       "      <td>258.859712</td>\n",
       "    </tr>\n",
       "    <tr>\n",
       "      <th>2</th>\n",
       "      <td>1992_ARIZONA</td>\n",
       "      <td>ARIZONA</td>\n",
       "      <td>1992</td>\n",
       "      <td>NaN</td>\n",
       "      <td>3258079.0</td>\n",
       "      <td>297888.0</td>\n",
       "      <td>1369815.0</td>\n",
       "      <td>1590376.0</td>\n",
       "      <td>3401580.0</td>\n",
       "      <td>1435908.0</td>\n",
       "      <td>...</td>\n",
       "      <td>55433.0</td>\n",
       "      <td>49081.0</td>\n",
       "      <td>37410.0</td>\n",
       "      <td>437127.0</td>\n",
       "      <td>175210.0</td>\n",
       "      <td>614881.0</td>\n",
       "      <td>215.253932</td>\n",
       "      <td>265.366278</td>\n",
       "      <td>206.212716</td>\n",
       "      <td>262.169895</td>\n",
       "    </tr>\n",
       "    <tr>\n",
       "      <th>3</th>\n",
       "      <td>1992_ARKANSAS</td>\n",
       "      <td>ARKANSAS</td>\n",
       "      <td>1992</td>\n",
       "      <td>NaN</td>\n",
       "      <td>1711959.0</td>\n",
       "      <td>178571.0</td>\n",
       "      <td>958785.0</td>\n",
       "      <td>574603.0</td>\n",
       "      <td>1743022.0</td>\n",
       "      <td>964323.0</td>\n",
       "      <td>...</td>\n",
       "      <td>34632.0</td>\n",
       "      <td>36011.0</td>\n",
       "      <td>27651.0</td>\n",
       "      <td>281338.0</td>\n",
       "      <td>123113.0</td>\n",
       "      <td>405259.0</td>\n",
       "      <td>210.206028</td>\n",
       "      <td>256.312090</td>\n",
       "      <td>208.634458</td>\n",
       "      <td>264.619665</td>\n",
       "    </tr>\n",
       "    <tr>\n",
       "      <th>4</th>\n",
       "      <td>1992_CALIFORNIA</td>\n",
       "      <td>CALIFORNIA</td>\n",
       "      <td>1992</td>\n",
       "      <td>NaN</td>\n",
       "      <td>26260025.0</td>\n",
       "      <td>2072470.0</td>\n",
       "      <td>16546514.0</td>\n",
       "      <td>7641041.0</td>\n",
       "      <td>27138832.0</td>\n",
       "      <td>14358922.0</td>\n",
       "      <td>...</td>\n",
       "      <td>418418.0</td>\n",
       "      <td>363296.0</td>\n",
       "      <td>270675.0</td>\n",
       "      <td>3286034.0</td>\n",
       "      <td>1372011.0</td>\n",
       "      <td>4717112.0</td>\n",
       "      <td>208.398961</td>\n",
       "      <td>260.892247</td>\n",
       "      <td>196.764414</td>\n",
       "      <td>NaN</td>\n",
       "    </tr>\n",
       "  </tbody>\n",
       "</table>\n",
       "<p>5 rows × 25 columns</p>\n",
       "</div>"
      ],
      "text/plain": [
       "       PRIMARY_KEY       STATE  YEAR  ENROLL  TOTAL_REVENUE  FEDERAL_REVENUE  \\\n",
       "0     1992_ALABAMA     ALABAMA  1992     NaN      2678885.0         304177.0   \n",
       "1      1992_ALASKA      ALASKA  1992     NaN      1049591.0         106780.0   \n",
       "2     1992_ARIZONA     ARIZONA  1992     NaN      3258079.0         297888.0   \n",
       "3    1992_ARKANSAS    ARKANSAS  1992     NaN      1711959.0         178571.0   \n",
       "4  1992_CALIFORNIA  CALIFORNIA  1992     NaN     26260025.0        2072470.0   \n",
       "\n",
       "   STATE_REVENUE  LOCAL_REVENUE  TOTAL_EXPENDITURE  INSTRUCTION_EXPENDITURE  \\\n",
       "0      1659028.0       715680.0          2653798.0                1481703.0   \n",
       "1       720711.0       222100.0           972488.0                 498362.0   \n",
       "2      1369815.0      1590376.0          3401580.0                1435908.0   \n",
       "3       958785.0       574603.0          1743022.0                 964323.0   \n",
       "4     16546514.0      7641041.0         27138832.0               14358922.0   \n",
       "\n",
       "   ...  GRADES_4_G  GRADES_8_G  GRADES_12_G  GRADES_1_8_G  GRADES_9_12_G  \\\n",
       "0  ...     57948.0     58025.0      41167.0      471564.0       196386.0   \n",
       "1  ...      9748.0      8789.0       6714.0       79117.0        30847.0   \n",
       "2  ...     55433.0     49081.0      37410.0      437127.0       175210.0   \n",
       "3  ...     34632.0     36011.0      27651.0      281338.0       123113.0   \n",
       "4  ...    418418.0    363296.0     270675.0     3286034.0      1372011.0   \n",
       "\n",
       "   GRADES_ALL_G  AVG_MATH_4_SCORE  AVG_MATH_8_SCORE  AVG_READING_4_SCORE  \\\n",
       "0      676174.0        208.327876        252.187522           207.963517   \n",
       "1      112335.0               NaN               NaN                  NaN   \n",
       "2      614881.0        215.253932        265.366278           206.212716   \n",
       "3      405259.0        210.206028        256.312090           208.634458   \n",
       "4     4717112.0        208.398961        260.892247           196.764414   \n",
       "\n",
       "   AVG_READING_8_SCORE  \n",
       "0                  NaN  \n",
       "1           258.859712  \n",
       "2           262.169895  \n",
       "3           264.619665  \n",
       "4                  NaN  \n",
       "\n",
       "[5 rows x 25 columns]"
      ]
     },
     "execution_count": 13,
     "metadata": {},
     "output_type": "execute_result"
    }
   ],
   "source": [
    "df.head()"
   ]
  },
  {
   "cell_type": "markdown",
   "metadata": {},
   "source": [
    "# Data Cleaning Assignment"
   ]
  },
  {
   "cell_type": "code",
   "execution_count": 23,
   "metadata": {},
   "outputs": [],
   "source": [
    "#df.isnull().sum()*100/df.isnull().count()"
   ]
  },
  {
   "cell_type": "code",
   "execution_count": 20,
   "metadata": {},
   "outputs": [],
   "source": [
    "#df[\"ENROLL\"].fillna(df[\"ENROLL\"].mean(), inplace=True)\n",
    "#df[\"TOTAL_REVENUE\"].fillna(df[\"TOTAL_REVENUE\"].mean(), inplace=True)\n",
    "\n",
    "#df.isnull().sum()*100/df.isnull().count()"
   ]
  },
  {
   "cell_type": "code",
   "execution_count": 72,
   "metadata": {},
   "outputs": [],
   "source": [
    "#df.groupby('YEAR', as_index=False)['TOTAL_REVENUE'].mean()\n",
    "#df[\"TOTAL_REVENUE\"] = df.groupby(\"YEAR\").transform(lambda x: x.fillna(x.mean()))\n",
    "\n",
    "#df.isnull().sum()*100/df.isnull().count()"
   ]
  },
  {
   "cell_type": "code",
   "execution_count": 15,
   "metadata": {},
   "outputs": [
    {
     "data": {
      "text/plain": [
       "PRIMARY_KEY                     0.000000\n",
       "STATE                           0.000000\n",
       "YEAR                            0.000000\n",
       "ENROLL                          2.412869\n",
       "TOTAL_REVENUE                   0.000000\n",
       "FEDERAL_REVENUE                 0.000000\n",
       "STATE_REVENUE                   0.000000\n",
       "LOCAL_REVENUE                   0.000000\n",
       "TOTAL_EXPENDITURE               0.000000\n",
       "INSTRUCTION_EXPENDITURE         0.000000\n",
       "SUPPORT_SERVICES_EXPENDITURE    0.000000\n",
       "OTHER_EXPENDITURE               2.412869\n",
       "CAPITAL_OUTLAY_EXPENDITURE      0.000000\n",
       "GRADES_PK_G                     0.000000\n",
       "GRADES_KG_G                     0.000000\n",
       "GRADES_4_G                      0.000000\n",
       "GRADES_8_G                      0.000000\n",
       "GRADES_12_G                     0.000000\n",
       "GRADES_1_8_G                    0.000000\n",
       "GRADES_9_12_G                   0.000000\n",
       "GRADES_ALL_G                    0.000000\n",
       "AVG_MATH_4_SCORE                0.000000\n",
       "AVG_MATH_8_SCORE                0.000000\n",
       "AVG_READING_4_SCORE             0.000000\n",
       "AVG_READING_8_SCORE             0.067024\n",
       "dtype: float64"
      ]
     },
     "execution_count": 15,
     "metadata": {},
     "output_type": "execute_result"
    }
   ],
   "source": [
    "df3 = df.interpolate()\n",
    "df3.isnull().sum()*100/df3.isnull().count()"
   ]
  },
  {
   "cell_type": "markdown",
   "metadata": {},
   "source": [
    "- Determine all the variable types and find the fraction of the missing values for each variable.\n",
    "\n",
    "- Notice that the data has a time dimension (year). For this assignment, forget about time and treat all the observations as if they're from the same year. Choose a strategy to deal with the missing values for each variables. For which variables would filling in the missing values with some value make sense? For which might tossing out the records entirely make sense?\n",
    "        \n",
    "        • I ran code that replaced null vaules in \"YEAR\" and \"ENROLL\" with the mean value. I think doing that with all the columns minus the columns that begin with AVG since those seem too far gone as far as null values.\n",
    "        \n",
    "- Now, take into account the time factor. Replicate your second answer but this time fill in the missing values by using a statistic that is calculated within the year of the observation. For example, if you want to fill a missing value for a variable with the mean of that variable, calculate the mean by using only the observations for that specific year.\n",
    "        \n",
    "        • df[\"TOTAL_REVENUE\"] = df.groupby(\"YEAR\").transform(lambda x: x.fillna(x.mean()))\n",
    "        \n",
    "- This time, fill in the missing values using interpolation (extrapolation).\n",
    "\n",
    "        • df.interpolate(method='pad', limit=2)\n",
    "        \n",
    "- Compare your results for the 2nd, 3rd, and 4th questions. Do you find any meaningful differences?\n",
    "\n",
    "        • Interpolation is a quick way to replace null values with neighboring values. I feel this isn't the best way considering you could be duplicating bad data? I think using .groupby() with \"YEAR\" column and .mean() was a clean way of filling in null values."
   ]
  },
  {
   "cell_type": "markdown",
   "metadata": {},
   "source": [
    "# Outlier Assignment"
   ]
  },
  {
   "cell_type": "markdown",
   "metadata": {},
   "source": [
    "    - Consider the two variables: TOTAL_REVENUE and TOTAL_EXPENDITURE. Do these variables have outlier values?\n",
    "    - If you detect outliers in the TOTAL_REVENUE and TOTAL_EXPENDITURE variables, apply the techniques you learned in this checkpoint to eliminate them and validate that there's no outlier values after you handled them.\n",
    "    - Create another variable by subtracting the original TOTAL_EXPENDITURE from TOTAL_REVENUE (before you eliminated the outliers). You can think of it as a kind of budget deficit in education. Do you find any outlier values in this new variable? If so, eliminate them using the technique you think most suitable.\n",
    "    - Now create another variable by subtracting the TOTAL_EXPENDITURE from TOTAL_REVENUE. This time, use the outlier eliminated versions of TOTAL_EXPENDITURE from TOTAL_REVENUE. In this newly created variable, can you find any outliers? If so, eliminate them.\n",
    "    - Compare some basic descriptive statistics of the budget variables you end up with in the 3rd and the 4th questions. Do you see any differences?\n",
    "    - If our variable of interest is the budget deficit variable, which method do you think is the appropriate in dealing with the outliers in this variable: the method in the 3rd question or the one in the 4th question?"
   ]
  },
  {
   "cell_type": "code",
   "execution_count": 30,
   "metadata": {},
   "outputs": [
    {
     "data": {
      "image/png": "[encoded data removed]",
      "text/plain": [
       "<Figure size 432x288 with 1 Axes>"
      ]
     },
     "metadata": {
      "needs_background": "light"
     },
     "output_type": "display_data"
    }
   ],
   "source": [
    "plt.boxplot(df3[\"TOTAL_REVENUE\"])\n",
    "plt.title(\"Box plot of TOTAL_REVENUE\")\n",
    "plt.show()"
   ]
  },
  {
   "cell_type": "code",
   "execution_count": 19,
   "metadata": {},
   "outputs": [
    {
     "data": {
      "image/png": "[encoded data removed]",
      "text/plain": [
       "<Figure size 432x288 with 1 Axes>"
      ]
     },
     "metadata": {
      "needs_background": "light"
     },
     "output_type": "display_data"
    }
   ],
   "source": [
    "plt.boxplot(df3[\"TOTAL_REVENUE\"], whis=20)\n",
    "plt.title(\"Box plot of TOTAL_REVENUE\")\n",
    "plt.show()"
   ]
  },
  {
   "cell_type": "code",
   "execution_count": 25,
   "metadata": {},
   "outputs": [
    {
     "data": {
      "text/plain": [
       "masked_array(data=[ 2678885.,  1049591.,  3258079., ..., 23766529.,\n",
       "                   23766529., 23766529.],\n",
       "             mask=False,\n",
       "       fill_value=1e+20)"
      ]
     },
     "execution_count": 25,
     "metadata": {},
     "output_type": "execute_result"
    }
   ],
   "source": [
    "winsorized_revenue = winsorize(df3[\"TOTAL_REVENUE\"], (0, 0.10))\n",
    "\n",
    "winsorized_revenue"
   ]
  },
  {
   "cell_type": "code",
   "execution_count": 26,
   "metadata": {},
   "outputs": [
    {
     "data": {
      "image/png": "[encoded data removed]",
      "text/plain": [
       "<Figure size 432x288 with 1 Axes>"
      ]
     },
     "metadata": {
      "needs_background": "light"
     },
     "output_type": "display_data"
    }
   ],
   "source": [
    "plt.boxplot(winsorized_revenue)\n",
    "plt.title(\"Box plot of TOTAL_REVENUE winsorized\")\n",
    "plt.show()"
   ]
  },
  {
   "cell_type": "code",
   "execution_count": 21,
   "metadata": {},
   "outputs": [
    {
     "data": {
      "image/png": "[encoded data removed]",
      "text/plain": [
       "<Figure size 432x288 with 1 Axes>"
      ]
     },
     "metadata": {
      "needs_background": "light"
     },
     "output_type": "display_data"
    }
   ],
   "source": [
    "plt.boxplot(df3[\"TOTAL_EXPENDITURE\"])\n",
    "plt.title(\"Box plot of TOTAL_EXPENDITURE\")\n",
    "plt.show()"
   ]
  },
  {
   "cell_type": "code",
   "execution_count": 27,
   "metadata": {},
   "outputs": [
    {
     "data": {
      "text/plain": [
       "masked_array(data=[ 2653798.,   972488.,  3401580., ..., 23352516.,\n",
       "                   23352516., 23352516.],\n",
       "             mask=False,\n",
       "       fill_value=1e+20)"
      ]
     },
     "execution_count": 27,
     "metadata": {},
     "output_type": "execute_result"
    }
   ],
   "source": [
    "winsorized_expend = winsorize(df3[\"TOTAL_EXPENDITURE\"], (0, 0.10))\n",
    "\n",
    "winsorized_expend"
   ]
  },
  {
   "cell_type": "code",
   "execution_count": 29,
   "metadata": {},
   "outputs": [
    {
     "data": {
      "image/png": "[encoded data removed]",
      "text/plain": [
       "<Figure size 432x288 with 1 Axes>"
      ]
     },
     "metadata": {
      "needs_background": "light"
     },
     "output_type": "display_data"
    }
   ],
   "source": [
    "plt.boxplot(winsorized_expend)\n",
    "plt.title(\"Box plot of TOTAL_EXPENDITURE winsorized\")\n",
    "plt.show()"
   ]
  },
  {
   "cell_type": "code",
   "execution_count": 35,
   "metadata": {},
   "outputs": [
    {
     "data": {
      "image/png": "[encoded data removed]",
      "text/plain": [
       "<Figure size 432x288 with 1 Axes>"
      ]
     },
     "metadata": {
      "needs_background": "light"
     },
     "output_type": "display_data"
    }
   ],
   "source": [
    "budget_deficit = df3[\"TOTAL_REVENUE\"] - df3[\"TOTAL_EXPENDITURE\"]\n",
    "#print(budget_deficit)\n",
    "\n",
    "plt.boxplot(budget_deficit)\n",
    "plt.title(\"Box plot of Budget Deficit\")\n",
    "plt.show()"
   ]
  },
  {
   "cell_type": "code",
   "execution_count": 36,
   "metadata": {},
   "outputs": [
    {
     "data": {
      "image/png": "[encoded data removed]",
      "text/plain": [
       "<Figure size 1080x360 with 2 Axes>"
      ]
     },
     "metadata": {
      "needs_background": "light"
     },
     "output_type": "display_data"
    }
   ],
   "source": [
    "plt.figure(figsize = (15,5))\n",
    "\n",
    "plt.subplot(1,2,1)\n",
    "plt.hist(budget_deficit)\n",
    "plt.title(\"Histogram of Budget Deficit\")\n",
    "\n",
    "plt.subplot(1,2,2)\n",
    "plt.hist(np.log(budget_deficit))\n",
    "plt.title(\"Histogram of log transformed Budget Deficit\")\n",
    "plt.show()"
   ]
  },
  {
   "cell_type": "code",
   "execution_count": 38,
   "metadata": {},
   "outputs": [
    {
     "data": {
      "image/png": "[encoded data removed]",
      "text/plain": [
       "<Figure size 432x288 with 1 Axes>"
      ]
     },
     "metadata": {
      "needs_background": "light"
     },
     "output_type": "display_data"
    }
   ],
   "source": [
    "budget_deficit2 = winsorized_revenue - winsorized_expend\n",
    "\n",
    "plt.boxplot(budget_deficit2)\n",
    "plt.title(\"Box plot of Budget Deficit version 2\")\n",
    "plt.show()"
   ]
  },
  {
   "cell_type": "code",
   "execution_count": 40,
   "metadata": {},
   "outputs": [
    {
     "data": {
      "image/png": "[encoded data removed]",
      "text/plain": [
       "<Figure size 432x288 with 1 Axes>"
      ]
     },
     "metadata": {
      "needs_background": "light"
     },
     "output_type": "display_data"
    }
   ],
   "source": [
    "plt.boxplot(np.log(budget_deficit2))\n",
    "plt.title(\"Box plot of Budget Deficit version 2\")\n",
    "plt.show()"
   ]
  },
  {
   "cell_type": "code",
   "execution_count": 39,
   "metadata": {},
   "outputs": [
    {
     "data": {
      "image/png": "[encoded data removed]",
      "text/plain": [
       "<Figure size 1080x360 with 2 Axes>"
      ]
     },
     "metadata": {
      "needs_background": "light"
     },
     "output_type": "display_data"
    }
   ],
   "source": [
    "plt.figure(figsize = (15,5))\n",
    "\n",
    "plt.subplot(1,2,1)\n",
    "plt.hist(budget_deficit2)\n",
    "plt.title(\"Histogram of Budget Deficit version 2\")\n",
    "\n",
    "plt.subplot(1,2,2)\n",
    "plt.hist(np.log(budget_deficit2))\n",
    "plt.title(\"Histogram of log transformed Budget Deficit version 2\")\n",
    "plt.show()"
   ]
  },
  {
   "cell_type": "code",
   "execution_count": 42,
   "metadata": {},
   "outputs": [
    {
     "name": "stdout",
     "output_type": "stream",
     "text": [
      "65818.22888739947\n",
      "11.094652113709275\n"
     ]
    }
   ],
   "source": [
    "print(budget_deficit.mean())\n",
    "\n",
    "\n",
    "print(np.log(budget_deficit.mean()))"
   ]
  },
  {
   "cell_type": "markdown",
   "metadata": {},
   "source": [
    "### For question #6; Answer: I would choose the technique used in question #4"
   ]
  },
  {
   "cell_type": "markdown",
   "metadata": {},
   "source": [
    "# Data exploration 1"
   ]
  },
  {
   "cell_type": "markdown",
   "metadata": {},
   "source": [
    "    - Derive the descriptive statistics of the data and discuss the points you find remarkable.\n",
    "    - Choose a state (e.g. California) and draw a line graph of its total revenues and total expenditures along the years. How do these 2 variables evolve during the years? Try to explain the peaks and troughs with some state-wise news and information around those dates.\n",
    "    - In your chosen state, which of the lessons are the students more successful, math or reading?\n",
    "    - What are the distributions of the math and reading scores in the sample?\n",
    "    - Notice there are too many missing values for math and reading scores. Fill out the missing values using mean, median, and linear interpolation. Then compare the effects of these techniques on the distributions of the score variables."
   ]
  },
  {
   "cell_type": "code",
   "execution_count": 74,
   "metadata": {},
   "outputs": [],
   "source": [
    "fill_list = [\"ENROLL\", \"TOTAL_REVENUE\", \"FEDERAL_REVENUE\",\n",
    "             \"STATE_REVENUE\", \"LOCAL_REVENUE\", \"TOTAL_EXPENDITURE\",\n",
    "             \"INSTRUCTION_EXPENDITURE\", \"SUPPORT_SERVICES_EXPENDITURE\",\n",
    "             \"OTHER_EXPENDITURE\", \"CAPITAL_OUTLAY_EXPENDITURE\", \"GRADES_PK_G\",\n",
    "             \"GRADES_KG_G\", \"GRADES_4_G\", \"GRADES_8_G\", \"GRADES_12_G\", \"GRADES_1_8_G\",\n",
    "             \"GRADES_9_12_G\", \"GRADES_ALL_G\"]\n",
    "\n",
    "states = df[\"STATE\"].unique()\n",
    "\n",
    "for state in states:\n",
    "    df.loc[df[\"STATE\"] == state, fill_list] = df.loc[df[\"STATE\"] == state, fill_list].interpolate()\n",
    "\n",
    "# we drop the null values after interpolation\n",
    "df.dropna(inplace=True)"
   ]
  },
  {
   "cell_type": "code",
   "execution_count": 75,
   "metadata": {},
   "outputs": [
    {
     "data": {
      "text/html": [
       "<div>\n",
       "<style scoped>\n",
       "    .dataframe tbody tr th:only-of-type {\n",
       "        vertical-align: middle;\n",
       "    }\n",
       "\n",
       "    .dataframe tbody tr th {\n",
       "        vertical-align: top;\n",
       "    }\n",
       "\n",
       "    .dataframe thead th {\n",
       "        text-align: right;\n",
       "    }\n",
       "</style>\n",
       "<table border=\"1\" class=\"dataframe\">\n",
       "  <thead>\n",
       "    <tr style=\"text-align: right;\">\n",
       "      <th></th>\n",
       "      <th>PRIMARY_KEY</th>\n",
       "      <th>STATE</th>\n",
       "      <th>YEAR</th>\n",
       "      <th>ENROLL</th>\n",
       "      <th>TOTAL_REVENUE</th>\n",
       "      <th>FEDERAL_REVENUE</th>\n",
       "      <th>STATE_REVENUE</th>\n",
       "      <th>LOCAL_REVENUE</th>\n",
       "      <th>TOTAL_EXPENDITURE</th>\n",
       "      <th>INSTRUCTION_EXPENDITURE</th>\n",
       "      <th>...</th>\n",
       "      <th>GRADES_4_G</th>\n",
       "      <th>GRADES_8_G</th>\n",
       "      <th>GRADES_12_G</th>\n",
       "      <th>GRADES_1_8_G</th>\n",
       "      <th>GRADES_9_12_G</th>\n",
       "      <th>GRADES_ALL_G</th>\n",
       "      <th>AVG_MATH_4_SCORE</th>\n",
       "      <th>AVG_MATH_8_SCORE</th>\n",
       "      <th>AVG_READING_4_SCORE</th>\n",
       "      <th>AVG_READING_8_SCORE</th>\n",
       "    </tr>\n",
       "  </thead>\n",
       "  <tbody>\n",
       "    <tr>\n",
       "      <th>count</th>\n",
       "      <td>466</td>\n",
       "      <td>466</td>\n",
       "      <td>466.000000</td>\n",
       "      <td>4.660000e+02</td>\n",
       "      <td>4.660000e+02</td>\n",
       "      <td>4.660000e+02</td>\n",
       "      <td>4.660000e+02</td>\n",
       "      <td>4.660000e+02</td>\n",
       "      <td>4.660000e+02</td>\n",
       "      <td>4.660000e+02</td>\n",
       "      <td>...</td>\n",
       "      <td>466.00000</td>\n",
       "      <td>466.00000</td>\n",
       "      <td>466.000000</td>\n",
       "      <td>4.660000e+02</td>\n",
       "      <td>4.660000e+02</td>\n",
       "      <td>4.660000e+02</td>\n",
       "      <td>466.000000</td>\n",
       "      <td>466.000000</td>\n",
       "      <td>466.000000</td>\n",
       "      <td>466.000000</td>\n",
       "    </tr>\n",
       "    <tr>\n",
       "      <th>unique</th>\n",
       "      <td>465</td>\n",
       "      <td>51</td>\n",
       "      <td>NaN</td>\n",
       "      <td>NaN</td>\n",
       "      <td>NaN</td>\n",
       "      <td>NaN</td>\n",
       "      <td>NaN</td>\n",
       "      <td>NaN</td>\n",
       "      <td>NaN</td>\n",
       "      <td>NaN</td>\n",
       "      <td>...</td>\n",
       "      <td>NaN</td>\n",
       "      <td>NaN</td>\n",
       "      <td>NaN</td>\n",
       "      <td>NaN</td>\n",
       "      <td>NaN</td>\n",
       "      <td>NaN</td>\n",
       "      <td>NaN</td>\n",
       "      <td>NaN</td>\n",
       "      <td>NaN</td>\n",
       "      <td>NaN</td>\n",
       "    </tr>\n",
       "    <tr>\n",
       "      <th>top</th>\n",
       "      <td>2009_DISTRICT_OF_COLUMBIA</td>\n",
       "      <td>DISTRICT_OF_COLUMBIA</td>\n",
       "      <td>NaN</td>\n",
       "      <td>NaN</td>\n",
       "      <td>NaN</td>\n",
       "      <td>NaN</td>\n",
       "      <td>NaN</td>\n",
       "      <td>NaN</td>\n",
       "      <td>NaN</td>\n",
       "      <td>NaN</td>\n",
       "      <td>...</td>\n",
       "      <td>NaN</td>\n",
       "      <td>NaN</td>\n",
       "      <td>NaN</td>\n",
       "      <td>NaN</td>\n",
       "      <td>NaN</td>\n",
       "      <td>NaN</td>\n",
       "      <td>NaN</td>\n",
       "      <td>NaN</td>\n",
       "      <td>NaN</td>\n",
       "      <td>NaN</td>\n",
       "    </tr>\n",
       "    <tr>\n",
       "      <th>freq</th>\n",
       "      <td>2</td>\n",
       "      <td>11</td>\n",
       "      <td>NaN</td>\n",
       "      <td>NaN</td>\n",
       "      <td>NaN</td>\n",
       "      <td>NaN</td>\n",
       "      <td>NaN</td>\n",
       "      <td>NaN</td>\n",
       "      <td>NaN</td>\n",
       "      <td>NaN</td>\n",
       "      <td>...</td>\n",
       "      <td>NaN</td>\n",
       "      <td>NaN</td>\n",
       "      <td>NaN</td>\n",
       "      <td>NaN</td>\n",
       "      <td>NaN</td>\n",
       "      <td>NaN</td>\n",
       "      <td>NaN</td>\n",
       "      <td>NaN</td>\n",
       "      <td>NaN</td>\n",
       "      <td>NaN</td>\n",
       "    </tr>\n",
       "    <tr>\n",
       "      <th>mean</th>\n",
       "      <td>NaN</td>\n",
       "      <td>NaN</td>\n",
       "      <td>2008.577253</td>\n",
       "      <td>9.442125e+05</td>\n",
       "      <td>1.078853e+07</td>\n",
       "      <td>9.568659e+05</td>\n",
       "      <td>4.999548e+06</td>\n",
       "      <td>4.832112e+06</td>\n",
       "      <td>1.086947e+07</td>\n",
       "      <td>5.638251e+06</td>\n",
       "      <td>...</td>\n",
       "      <td>72515.82618</td>\n",
       "      <td>72917.07618</td>\n",
       "      <td>64773.880901</td>\n",
       "      <td>5.836186e+05</td>\n",
       "      <td>2.867026e+05</td>\n",
       "      <td>8.933042e+05</td>\n",
       "      <td>236.909728</td>\n",
       "      <td>279.802668</td>\n",
       "      <td>219.508638</td>\n",
       "      <td>263.789943</td>\n",
       "    </tr>\n",
       "    <tr>\n",
       "      <th>std</th>\n",
       "      <td>NaN</td>\n",
       "      <td>NaN</td>\n",
       "      <td>5.779779</td>\n",
       "      <td>1.122051e+06</td>\n",
       "      <td>1.356335e+07</td>\n",
       "      <td>1.330702e+06</td>\n",
       "      <td>6.405481e+06</td>\n",
       "      <td>6.325995e+06</td>\n",
       "      <td>1.373667e+07</td>\n",
       "      <td>7.255903e+06</td>\n",
       "      <td>...</td>\n",
       "      <td>86463.95300</td>\n",
       "      <td>85835.16237</td>\n",
       "      <td>77557.604833</td>\n",
       "      <td>6.925615e+05</td>\n",
       "      <td>3.408161e+05</td>\n",
       "      <td>1.060080e+06</td>\n",
       "      <td>8.695903</td>\n",
       "      <td>9.381511</td>\n",
       "      <td>7.426546</td>\n",
       "      <td>6.875627</td>\n",
       "    </tr>\n",
       "    <tr>\n",
       "      <th>min</th>\n",
       "      <td>NaN</td>\n",
       "      <td>NaN</td>\n",
       "      <td>1996.000000</td>\n",
       "      <td>4.417900e+04</td>\n",
       "      <td>6.788740e+05</td>\n",
       "      <td>5.787000e+04</td>\n",
       "      <td>0.000000e+00</td>\n",
       "      <td>2.853100e+04</td>\n",
       "      <td>7.032450e+05</td>\n",
       "      <td>3.182600e+05</td>\n",
       "      <td>...</td>\n",
       "      <td>3423.00000</td>\n",
       "      <td>2860.00000</td>\n",
       "      <td>2188.000000</td>\n",
       "      <td>2.676200e+04</td>\n",
       "      <td>9.970000e+03</td>\n",
       "      <td>3.682300e+04</td>\n",
       "      <td>187.134670</td>\n",
       "      <td>232.831510</td>\n",
       "      <td>181.626990</td>\n",
       "      <td>236.379102</td>\n",
       "    </tr>\n",
       "    <tr>\n",
       "      <th>25%</th>\n",
       "      <td>NaN</td>\n",
       "      <td>NaN</td>\n",
       "      <td>2005.000000</td>\n",
       "      <td>2.794832e+05</td>\n",
       "      <td>2.712660e+06</td>\n",
       "      <td>2.614470e+05</td>\n",
       "      <td>1.491747e+06</td>\n",
       "      <td>9.513430e+05</td>\n",
       "      <td>2.670300e+06</td>\n",
       "      <td>1.416288e+06</td>\n",
       "      <td>...</td>\n",
       "      <td>20489.75000</td>\n",
       "      <td>20880.25000</td>\n",
       "      <td>18527.750000</td>\n",
       "      <td>1.666395e+05</td>\n",
       "      <td>8.194400e+04</td>\n",
       "      <td>2.596278e+05</td>\n",
       "      <td>232.760641</td>\n",
       "      <td>274.707118</td>\n",
       "      <td>215.338956</td>\n",
       "      <td>259.661771</td>\n",
       "    </tr>\n",
       "    <tr>\n",
       "      <th>50%</th>\n",
       "      <td>NaN</td>\n",
       "      <td>NaN</td>\n",
       "      <td>2009.000000</td>\n",
       "      <td>6.639415e+05</td>\n",
       "      <td>6.106834e+06</td>\n",
       "      <td>5.544340e+05</td>\n",
       "      <td>3.021544e+06</td>\n",
       "      <td>2.442983e+06</td>\n",
       "      <td>6.249671e+06</td>\n",
       "      <td>3.186679e+06</td>\n",
       "      <td>...</td>\n",
       "      <td>50918.00000</td>\n",
       "      <td>50114.50000</td>\n",
       "      <td>41543.000000</td>\n",
       "      <td>4.067475e+05</td>\n",
       "      <td>1.868900e+05</td>\n",
       "      <td>6.264775e+05</td>\n",
       "      <td>238.394124</td>\n",
       "      <td>281.531587</td>\n",
       "      <td>221.130461</td>\n",
       "      <td>265.217081</td>\n",
       "    </tr>\n",
       "    <tr>\n",
       "      <th>75%</th>\n",
       "      <td>NaN</td>\n",
       "      <td>NaN</td>\n",
       "      <td>2013.000000</td>\n",
       "      <td>1.018588e+06</td>\n",
       "      <td>1.222407e+07</td>\n",
       "      <td>1.033414e+06</td>\n",
       "      <td>6.240349e+06</td>\n",
       "      <td>5.488079e+06</td>\n",
       "      <td>1.195951e+07</td>\n",
       "      <td>6.154768e+06</td>\n",
       "      <td>...</td>\n",
       "      <td>79929.50000</td>\n",
       "      <td>80949.75000</td>\n",
       "      <td>75641.250000</td>\n",
       "      <td>6.424952e+05</td>\n",
       "      <td>3.234915e+05</td>\n",
       "      <td>9.758625e+05</td>\n",
       "      <td>242.602566</td>\n",
       "      <td>286.197041</td>\n",
       "      <td>224.531280</td>\n",
       "      <td>268.307884</td>\n",
       "    </tr>\n",
       "    <tr>\n",
       "      <th>max</th>\n",
       "      <td>NaN</td>\n",
       "      <td>NaN</td>\n",
       "      <td>2017.000000</td>\n",
       "      <td>6.307022e+06</td>\n",
       "      <td>8.921726e+07</td>\n",
       "      <td>9.990221e+06</td>\n",
       "      <td>5.090457e+07</td>\n",
       "      <td>3.610526e+07</td>\n",
       "      <td>8.532013e+07</td>\n",
       "      <td>4.396452e+07</td>\n",
       "      <td>...</td>\n",
       "      <td>493415.00000</td>\n",
       "      <td>500143.00000</td>\n",
       "      <td>498403.000000</td>\n",
       "      <td>3.929869e+06</td>\n",
       "      <td>2.011865e+06</td>\n",
       "      <td>5.926631e+06</td>\n",
       "      <td>253.420961</td>\n",
       "      <td>300.568235</td>\n",
       "      <td>236.773867</td>\n",
       "      <td>280.499130</td>\n",
       "    </tr>\n",
       "  </tbody>\n",
       "</table>\n",
       "<p>11 rows × 25 columns</p>\n",
       "</div>"
      ],
      "text/plain": [
       "                      PRIMARY_KEY                 STATE         YEAR  \\\n",
       "count                         466                   466   466.000000   \n",
       "unique                        465                    51          NaN   \n",
       "top     2009_DISTRICT_OF_COLUMBIA  DISTRICT_OF_COLUMBIA          NaN   \n",
       "freq                            2                    11          NaN   \n",
       "mean                          NaN                   NaN  2008.577253   \n",
       "std                           NaN                   NaN     5.779779   \n",
       "min                           NaN                   NaN  1996.000000   \n",
       "25%                           NaN                   NaN  2005.000000   \n",
       "50%                           NaN                   NaN  2009.000000   \n",
       "75%                           NaN                   NaN  2013.000000   \n",
       "max                           NaN                   NaN  2017.000000   \n",
       "\n",
       "              ENROLL  TOTAL_REVENUE  FEDERAL_REVENUE  STATE_REVENUE  \\\n",
       "count   4.660000e+02   4.660000e+02     4.660000e+02   4.660000e+02   \n",
       "unique           NaN            NaN              NaN            NaN   \n",
       "top              NaN            NaN              NaN            NaN   \n",
       "freq             NaN            NaN              NaN            NaN   \n",
       "mean    9.442125e+05   1.078853e+07     9.568659e+05   4.999548e+06   \n",
       "std     1.122051e+06   1.356335e+07     1.330702e+06   6.405481e+06   \n",
       "min     4.417900e+04   6.788740e+05     5.787000e+04   0.000000e+00   \n",
       "25%     2.794832e+05   2.712660e+06     2.614470e+05   1.491747e+06   \n",
       "50%     6.639415e+05   6.106834e+06     5.544340e+05   3.021544e+06   \n",
       "75%     1.018588e+06   1.222407e+07     1.033414e+06   6.240349e+06   \n",
       "max     6.307022e+06   8.921726e+07     9.990221e+06   5.090457e+07   \n",
       "\n",
       "        LOCAL_REVENUE  TOTAL_EXPENDITURE  INSTRUCTION_EXPENDITURE  ...  \\\n",
       "count    4.660000e+02       4.660000e+02             4.660000e+02  ...   \n",
       "unique            NaN                NaN                      NaN  ...   \n",
       "top               NaN                NaN                      NaN  ...   \n",
       "freq              NaN                NaN                      NaN  ...   \n",
       "mean     4.832112e+06       1.086947e+07             5.638251e+06  ...   \n",
       "std      6.325995e+06       1.373667e+07             7.255903e+06  ...   \n",
       "min      2.853100e+04       7.032450e+05             3.182600e+05  ...   \n",
       "25%      9.513430e+05       2.670300e+06             1.416288e+06  ...   \n",
       "50%      2.442983e+06       6.249671e+06             3.186679e+06  ...   \n",
       "75%      5.488079e+06       1.195951e+07             6.154768e+06  ...   \n",
       "max      3.610526e+07       8.532013e+07             4.396452e+07  ...   \n",
       "\n",
       "          GRADES_4_G    GRADES_8_G    GRADES_12_G  GRADES_1_8_G  \\\n",
       "count      466.00000     466.00000     466.000000  4.660000e+02   \n",
       "unique           NaN           NaN            NaN           NaN   \n",
       "top              NaN           NaN            NaN           NaN   \n",
       "freq             NaN           NaN            NaN           NaN   \n",
       "mean     72515.82618   72917.07618   64773.880901  5.836186e+05   \n",
       "std      86463.95300   85835.16237   77557.604833  6.925615e+05   \n",
       "min       3423.00000    2860.00000    2188.000000  2.676200e+04   \n",
       "25%      20489.75000   20880.25000   18527.750000  1.666395e+05   \n",
       "50%      50918.00000   50114.50000   41543.000000  4.067475e+05   \n",
       "75%      79929.50000   80949.75000   75641.250000  6.424952e+05   \n",
       "max     493415.00000  500143.00000  498403.000000  3.929869e+06   \n",
       "\n",
       "        GRADES_9_12_G  GRADES_ALL_G  AVG_MATH_4_SCORE  AVG_MATH_8_SCORE  \\\n",
       "count    4.660000e+02  4.660000e+02        466.000000        466.000000   \n",
       "unique            NaN           NaN               NaN               NaN   \n",
       "top               NaN           NaN               NaN               NaN   \n",
       "freq              NaN           NaN               NaN               NaN   \n",
       "mean     2.867026e+05  8.933042e+05        236.909728        279.802668   \n",
       "std      3.408161e+05  1.060080e+06          8.695903          9.381511   \n",
       "min      9.970000e+03  3.682300e+04        187.134670        232.831510   \n",
       "25%      8.194400e+04  2.596278e+05        232.760641        274.707118   \n",
       "50%      1.868900e+05  6.264775e+05        238.394124        281.531587   \n",
       "75%      3.234915e+05  9.758625e+05        242.602566        286.197041   \n",
       "max      2.011865e+06  5.926631e+06        253.420961        300.568235   \n",
       "\n",
       "        AVG_READING_4_SCORE  AVG_READING_8_SCORE  \n",
       "count            466.000000           466.000000  \n",
       "unique                  NaN                  NaN  \n",
       "top                     NaN                  NaN  \n",
       "freq                    NaN                  NaN  \n",
       "mean             219.508638           263.789943  \n",
       "std                7.426546             6.875627  \n",
       "min              181.626990           236.379102  \n",
       "25%              215.338956           259.661771  \n",
       "50%              221.130461           265.217081  \n",
       "75%              224.531280           268.307884  \n",
       "max              236.773867           280.499130  \n",
       "\n",
       "[11 rows x 25 columns]"
      ]
     },
     "execution_count": 75,
     "metadata": {},
     "output_type": "execute_result"
    }
   ],
   "source": [
    "df.describe(include='all')"
   ]
  },
  {
   "cell_type": "code",
   "execution_count": 76,
   "metadata": {},
   "outputs": [
    {
     "data": {
      "image/png": "[encoded data removed]",
      "text/plain": [
       "<Figure size 432x288 with 1 Axes>"
      ]
     },
     "metadata": {
      "needs_background": "light"
     },
     "output_type": "display_data"
    }
   ],
   "source": [
    "plt.plot(df.loc[df.STATE == \"NORTH_CAROLINA\", \"YEAR\"],\n",
    "         df.loc[df.STATE == \"NORTH_CAROLINA\", \"TOTAL_REVENUE\"], label=\"total revenue\")\n",
    "\n",
    "plt.plot(df.loc[df.STATE == \"NORTH_CAROLINA\", \"YEAR\"],\n",
    "         df.loc[df.STATE == \"NORTH_CAROLINA\", \"TOTAL_EXPENDITURE\"], label=\"total expenditure\")\n",
    "\n",
    "plt.title(\"total revenue and total expenditure\")\n",
    "plt.legend()\n",
    "plt.show()"
   ]
  },
  {
   "cell_type": "code",
   "execution_count": 77,
   "metadata": {},
   "outputs": [
    {
     "data": {
      "image/png": "[encoded data removed]",
      "text/plain": [
       "<Figure size 1440x360 with 2 Axes>"
      ]
     },
     "metadata": {
      "needs_background": "light"
     },
     "output_type": "display_data"
    },
    {
     "name": "stdout",
     "output_type": "stream",
     "text": [
      "difference between reading and math scores (4)\n",
      "242     -7.487662\n",
      "450    -10.829025\n",
      "606    -20.819546\n",
      "709    -24.101101\n",
      "814    -23.683951\n",
      "922    -24.482414\n",
      "1026   -23.160937\n",
      "1130   -22.574018\n",
      "1232   -17.931676\n",
      "1480   -17.020487\n",
      "dtype: float64\n",
      "difference between reading and math scores (8)\n",
      "242     -0.616324\n",
      "450    -25.106754\n",
      "606    -13.876677\n",
      "709    -12.601007\n",
      "814    -16.849818\n",
      "922    -30.491681\n",
      "1026   -14.188402\n",
      "1130    -9.267401\n",
      "1232   -28.103323\n",
      "1480   -17.768444\n",
      "dtype: float64\n"
     ]
    }
   ],
   "source": [
    "plt.figure(figsize=(20,5))\n",
    "\n",
    "plt.subplot(1,2,1)\n",
    "plt.bar(df.loc[df.STATE == \"NORTH_CAROLINA\", \"YEAR\"],\n",
    "         df.loc[df.STATE == \"NORTH_CAROLINA\", \"AVG_READING_4_SCORE\"] - df.loc[df.STATE == \"NORTH_CAROLINA\", \"AVG_MATH_4_SCORE\"])\n",
    "\n",
    "plt.title(\"difference between reading and math scores (4)\")\n",
    "\n",
    "plt.subplot(1,2,2)\n",
    "plt.bar(df.loc[df.STATE == \"NORTH_CAROLINA\", \"YEAR\"],\n",
    "         df.loc[df.STATE == \"NORTH_CAROLINA\", \"AVG_READING_8_SCORE\"] - df.loc[df.STATE == \"NORTH_CAROLINA\", \"AVG_MATH_8_SCORE\"])\n",
    "\n",
    "plt.title(\"difference between reading and math scores (8)\")\n",
    "\n",
    "plt.show()\n",
    "\n",
    "print(\"difference between reading and math scores (4)\")\n",
    "print(df.loc[df.STATE == \"NORTH_CAROLINA\", \"AVG_READING_4_SCORE\"] - df.loc[df.STATE == \"NORTH_CAROLINA\", \"AVG_MATH_4_SCORE\"])\n",
    "print(\"difference between reading and math scores (8)\")\n",
    "print(df.loc[df.STATE == \"NORTH_CAROLINA\", \"AVG_READING_8_SCORE\"] - df.loc[df.STATE == \"NORTH_CAROLINA\", \"AVG_MATH_8_SCORE\"])\n"
   ]
  },
  {
   "cell_type": "code",
   "execution_count": 79,
   "metadata": {},
   "outputs": [
    {
     "data": {
      "image/png": "[encoded data removed]",
      "text/plain": [
       "<Figure size 1440x1440 with 4 Axes>"
      ]
     },
     "metadata": {
      "needs_background": "light"
     },
     "output_type": "display_data"
    }
   ],
   "source": [
    "plt.figure(figsize=(20,20))\n",
    "\n",
    "plt.subplot(2,2,1)\n",
    "plt.hist(df.AVG_READING_4_SCORE.dropna())\n",
    "plt.title(\"histogram of {}\".format(\"AVG_READING_4_SCORE\"))\n",
    "\n",
    "plt.subplot(2,2,2)\n",
    "plt.hist(df.AVG_MATH_4_SCORE.dropna())\n",
    "plt.title(\"histogram of {}\".format(\"AVG_MATH_4_SCORE\"))\n",
    "\n",
    "plt.subplot(2,2,3)\n",
    "plt.hist(df.AVG_READING_8_SCORE.dropna())\n",
    "plt.title(\"histogram of {}\".format(\"AVG_READING_8_SCORE\"))\n",
    "\n",
    "plt.subplot(2,2,4)\n",
    "plt.hist(df.AVG_MATH_8_SCORE.dropna())\n",
    "plt.title(\"histogram of {}\".format(\"AVG_MATH_8_SCORE\"))\n",
    "plt.show()"
   ]
  },
  {
   "cell_type": "code",
   "execution_count": 80,
   "metadata": {},
   "outputs": [
    {
     "data": {
      "image/png": "[encoded data removed]",
      "text/plain": [
       "<Figure size 1440x1440 with 16 Axes>"
      ]
     },
     "metadata": {
      "needs_background": "light"
     },
     "output_type": "display_data"
    }
   ],
   "source": [
    "plt.figure(figsize=(20,20))\n",
    "\n",
    "plt.subplot(4,4,1)\n",
    "plt.hist(df.AVG_MATH_4_SCORE.dropna())\n",
    "plt.title(\"histogram of {} (original)\".format(\"AVG_MATH_4_SCORE\"))\n",
    "\n",
    "plt.subplot(4,4,2)\n",
    "plt.hist(df.AVG_MATH_4_SCORE.interpolate())\n",
    "plt.title(\"histogram of {} (interpolated)\".format(\"AVG_READING_4_SCORE\"))\n",
    "\n",
    "plt.subplot(4,4,3)\n",
    "plt.hist(df.AVG_MATH_4_SCORE.fillna(df.AVG_MATH_4_SCORE.median()))\n",
    "plt.title(\"histogram of {} (filled with median)\".format(\"AVG_MATH_4_SCORE\"))\n",
    "\n",
    "plt.subplot(4,4,4)\n",
    "plt.hist(df.AVG_MATH_4_SCORE.fillna(df.AVG_MATH_4_SCORE.mean()))\n",
    "plt.title(\"histogram of {} (filled with mean)\".format(\"AVG_MATH_4_SCORE\"))\n",
    "\n",
    "\n",
    "plt.subplot(4,4,5)\n",
    "plt.hist(df.AVG_READING_4_SCORE.dropna())\n",
    "plt.title(\"histogram of {} (original)\".format(\"AVG_READING_4_SCORE\"))\n",
    "\n",
    "plt.subplot(4,4,6)\n",
    "plt.hist(df.AVG_READING_4_SCORE.interpolate())\n",
    "plt.title(\"histogram of {} (interpolated)\".format(\"AVG_READING_4_SCORE\"))\n",
    "\n",
    "plt.subplot(4,4,7)\n",
    "plt.hist(df.AVG_READING_4_SCORE.fillna(df.AVG_READING_4_SCORE.median()))\n",
    "plt.title(\"histogram of {} (filled with median)\".format(\"AVG_READING_4_SCORE\"))\n",
    "\n",
    "plt.subplot(4,4,8)\n",
    "plt.hist(df.AVG_READING_4_SCORE.fillna(df.AVG_READING_4_SCORE.mean()))\n",
    "plt.title(\"histogram of {} (filled with mean)\".format(\"AVG_READING_4_SCORE\"))\n",
    "\n",
    "\n",
    "plt.subplot(4,4,9)\n",
    "plt.hist(df.AVG_MATH_8_SCORE.dropna())\n",
    "plt.title(\"histogram of {} (original)\".format(\"AVG_MATH_8_SCORE\"))\n",
    "\n",
    "plt.subplot(4,4,10)\n",
    "plt.hist(df.AVG_MATH_8_SCORE.interpolate())\n",
    "plt.title(\"histogram of {} (interpolated)\".format(\"AVG_MATH_8_SCORE\"))\n",
    "\n",
    "plt.subplot(4,4,11)\n",
    "plt.hist(df.AVG_MATH_8_SCORE.fillna(df.AVG_MATH_8_SCORE.median()))\n",
    "plt.title(\"histogram of {} (filled with median)\".format(\"AVG_MATH_8_SCORE\"))\n",
    "\n",
    "plt.subplot(4,4,12)\n",
    "plt.hist(df.AVG_MATH_8_SCORE.fillna(df.AVG_MATH_8_SCORE.mean()))\n",
    "plt.title(\"histogram of {} (filled with mean)\".format(\"AVG_MATH_8_SCORE\"))\n",
    "\n",
    "\n",
    "plt.subplot(4,4,13)\n",
    "plt.hist(df.AVG_READING_8_SCORE.dropna())\n",
    "plt.title(\"histogram of {} (original)\".format(\"AVG_READING_8_SCORE\"))\n",
    "\n",
    "plt.subplot(4,4,14)\n",
    "plt.hist(df.AVG_READING_8_SCORE.interpolate().dropna())\n",
    "plt.title(\"histogram of {} (interpolated)\".format(\"AVG_READING_8_SCORE\"))\n",
    "\n",
    "plt.subplot(4,4,15)\n",
    "plt.hist(df.AVG_READING_8_SCORE.fillna(df.AVG_READING_8_SCORE.median()))\n",
    "plt.title(\"histogram of {} (filled with median)\".format(\"AVG_READING_8_SCORE\"))\n",
    "\n",
    "plt.subplot(4,4,16)\n",
    "plt.hist(df.AVG_READING_8_SCORE.fillna(df.AVG_READING_8_SCORE.mean()))\n",
    "plt.title(\"histogram of {} (filled with mean)\".format(\"AVG_READING_8_SCORE\"))\n",
    "\n",
    "plt.tight_layout()\n",
    "plt.show()"
   ]
  },
  {
   "cell_type": "code",
   "execution_count": null,
   "metadata": {},
   "outputs": [],
   "source": []
  }
 ],
 "metadata": {
  "kernelspec": {
   "display_name": "'Python Interactive'",
   "language": "python",
   "name": "ec5171af-50f9-4022-b579-9605273787da"
  },
  "language_info": {
   "codemirror_mode": {
    "name": "ipython",
    "version": 3
   },
   "file_extension": ".py",
   "mimetype": "text/x-python",
   "name": "python",
   "nbconvert_exporter": "python",
   "pygments_lexer": "ipython3",
   "version": "3.7.2"
  }
 },
 "nbformat": 4,
 "nbformat_minor": 2
}
