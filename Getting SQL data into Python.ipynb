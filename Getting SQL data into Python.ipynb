{
 "cells": [
  {
   "cell_type": "code",
   "execution_count": 13,
   "metadata": {},
   "outputs": [],
   "source": [
    "from sqlalchemy import create_engine\n",
    "import pandas as pd\n",
    "import numpy as np\n",
    "import math\n",
    "import warnings\n",
    "import psycopg2\n",
    "\n",
    "warnings.filterwarnings('ignore')\n",
    "\n",
    "# Database credentials\n",
    "postgres_user = 'dsbc_student'\n",
    "postgres_pw = '7*.8G9QH21'\n",
    "postgres_host = '142.93.121.174'\n",
    "postgres_port = '5432'\n",
    "postgres_db = 'dvdrentals'\n",
    "\n",
    "# use the credentials to start a connection\n",
    "engine = create_engine('postgresql://{}:{}@{}:{}/{}'.format(\n",
    "    postgres_user, postgres_pw, postgres_host, postgres_port, postgres_db))\n"
   ]
  },
  {
   "cell_type": "code",
   "execution_count": null,
   "metadata": {},
   "outputs": [],
   "source": [
    "insurance.keys()"
   ]
  },
  {
   "cell_type": "code",
   "execution_count": 16,
   "metadata": {},
   "outputs": [
    {
     "name": "stdout",
     "output_type": "stream",
     "text": [
      "(6, 196, 'BELA', 'WALKEN')\n",
      "(5, 143, 'RIVER', 'DEAN')\n",
      "(5, 149, 'RUSSELL', 'TEMPLE')\n",
      "(4, 129, 'DARYL', 'CRAWFORD')\n",
      "(4, 76, 'ANGELINA', 'ASTAIRE')\n",
      "(4, 58, 'CHRISTIAN', 'AKROYD')\n",
      "(4, 24, 'CAMERON', 'STREEP')\n",
      "(4, 83, 'BEN', 'WILLIS')\n",
      "(4, 37, 'VAL', 'BOLGER')\n",
      "(4, 198, 'MARY', 'KEITEL')\n",
      "(4, 101, 'SUSAN', 'DAVIS')\n",
      "(4, 82, 'WOODY', 'JOLIE')\n",
      "(4, 127, 'KEVIN', 'GARLAND')\n",
      "(3, 159, 'LAURA', 'BRODY')\n",
      "(3, 71, 'ADAM', 'GRANT')\n",
      "(3, 162, 'OPRAH', 'KILMER')\n",
      "(3, 84, 'JAMES', 'PITT')\n",
      "(3, 173, 'ALAN', 'DREYFUSS')\n",
      "(3, 42, 'TOM', 'MIRANDA')\n",
      "(3, 125, 'ALBERT', 'NOLTE')\n",
      "(3, 153, 'MINNIE', 'KILMER')\n",
      "(3, 147, 'FAY', 'WINSLET')\n",
      "(3, 19, 'BOB', 'FAWCETT')\n",
      "(3, 81, 'SCARLETT', 'DAMON')\n",
      "(3, 17, 'HELEN', 'VOIGHT')\n",
      "(3, 54, 'PENELOPE', 'PINKETT')\n",
      "(3, 34, 'AUDREY', 'OLIVIER')\n",
      "(3, 90, 'SEAN', 'GUINESS')\n",
      "(3, 45, 'REESE', 'KILMER')\n",
      "(3, 107, 'GINA', 'DEGENERES')\n",
      "(3, 89, 'CHARLIZE', 'DENCH')\n",
      "(3, 31, 'SISSY', 'SOBIESKI')\n",
      "(3, 158, 'VIVIEN', 'BASINGER')\n",
      "(3, 13, 'UMA', 'WOOD')\n",
      "(3, 133, 'RICHARD', 'PENN')\n",
      "(3, 128, 'CATE', 'MCQUEEN')\n",
      "(3, 99, 'JIM', 'MOSTEL')\n",
      "(3, 191, 'GREGORY', 'GOODING')\n",
      "(2, 119, 'WARREN', 'JACKMAN')\n",
      "(2, 25, 'KEVIN', 'BLOOM')\n",
      "(2, 43, 'KIRK', 'JOVOVICH')\n",
      "(2, 69, 'KENNETH', 'PALTROW')\n",
      "(2, 26, 'RIP', 'CRAWFORD')\n",
      "(2, 85, 'MINNIE', 'ZELLWEGER')\n",
      "(2, 187, 'RENEE', 'BALL')\n",
      "(2, 57, 'JUDE', 'CRUISE')\n",
      "(2, 154, 'MERYL', 'GIBSON')\n",
      "(2, 160, 'CHRIS', 'DEPP')\n",
      "(2, 172, 'GROUCHO', 'WILLIAMS')\n",
      "(2, 21, 'KIRSTEN', 'PALTROW')\n",
      "(2, 92, 'KIRSTEN', 'AKROYD')\n",
      "(2, 74, 'MILLA', 'KEITEL')\n",
      "(2, 177, 'GENE', 'MCKELLEN')\n",
      "(2, 29, 'ALEC', 'WAYNE')\n",
      "(2, 182, 'DEBBIE', 'AKROYD')\n",
      "(2, 181, 'MATTHEW', 'CARREY')\n",
      "(2, 105, 'SIDNEY', 'CROWE')\n",
      "(2, 86, 'GREG', 'CHAPLIN')\n",
      "(2, 144, 'ANGELA', 'WITHERSPOON')\n",
      "(2, 163, 'CHRISTOPHER', 'WEST')\n",
      "(2, 106, 'GROUCHO', 'DUNST')\n",
      "(2, 50, 'NATALIE', 'HOPKINS')\n",
      "(2, 102, 'WALTER', 'TORN')\n",
      "(2, 185, 'MICHAEL', 'BOLGER')\n",
      "(2, 111, 'CAMERON', 'ZELLWEGER')\n",
      "(2, 2, 'NICK', 'WAHLBERG')\n",
      "(2, 62, 'JAYNE', 'NEESON')\n",
      "(2, 199, 'JULIA', 'FAWCETT')\n",
      "(2, 146, 'ALBERT', 'JOHANSSON')\n",
      "(2, 152, 'BEN', 'HARRIS')\n",
      "(2, 41, 'JODIE', 'DEGENERES')\n",
      "(2, 157, 'GRETA', 'MALDEN')\n",
      "(2, 12, 'KARL', 'BERRY')\n",
      "(2, 164, 'HUMPHREY', 'WILLIS')\n",
      "(2, 112, 'RUSSELL', 'BACALL')\n",
      "(2, 135, 'RITA', 'REYNOLDS')\n",
      "(2, 65, 'ANGELA', 'HUDSON')\n",
      "(2, 124, 'SCARLETT', 'BENING')\n",
      "(2, 132, 'ADAM', 'HOPPER')\n",
      "(2, 44, 'NICK', 'STALLONE')\n",
      "(2, 80, 'RALPH', 'CRUZ')\n",
      "(2, 161, 'HARVEY', 'HOPE')\n",
      "(2, 188, 'ROCK', 'DUKAKIS')\n",
      "(2, 40, 'JOHNNY', 'CAGE')\n",
      "(1, 193, 'BURT', 'TEMPLE')\n",
      "(1, 180, 'JEFF', 'SILVERSTONE')\n",
      "(1, 168, 'WILL', 'WILSON')\n",
      "(1, 93, 'ELLEN', 'PRESLEY')\n",
      "(1, 98, 'CHRIS', 'BRIDGES')\n",
      "(1, 175, 'WILLIAM', 'HACKMAN')\n",
      "(1, 36, 'BURT', 'DUKAKIS')\n",
      "(1, 64, 'RAY', 'JOHANSSON')\n",
      "(1, 137, 'MORGAN', 'WILLIAMS')\n",
      "(1, 78, 'GROUCHO', 'SINATRA')\n",
      "(1, 167, 'LAURENCE', 'BULLOCK')\n",
      "(1, 66, 'MARY', 'TANDY')\n",
      "(1, 109, 'SYLVESTER', 'DERN')\n",
      "(1, 60, 'HENRY', 'BERRY')\n",
      "(1, 155, 'IAN', 'TANDY')\n",
      "(1, 178, 'LISA', 'MONROE')\n",
      "(1, 118, 'CUBA', 'ALLEN')\n",
      "(1, 130, 'GRETA', 'KEITEL')\n",
      "(1, 113, 'MORGAN', 'HOPKINS')\n",
      "(1, 116, 'DAN', 'STREEP')\n",
      "(1, 97, 'MEG', 'HAWKE')\n",
      "(1, 108, 'WARREN', 'NOLTE')\n",
      "(1, 141, 'CATE', 'HARRIS')\n",
      "(1, 117, 'RENEE', 'TRACY')\n",
      "(1, 15, 'CUBA', 'OLIVIER')\n",
      "(1, 79, 'MAE', 'HOFFMAN')\n",
      "(1, 156, 'FAY', 'WOOD')\n",
      "(1, 48, 'FRANCES', 'DAY-LEWIS')\n",
      "(1, 52, 'CARMEN', 'HUNT')\n",
      "(1, 126, 'FRANCES', 'TOMEI')\n",
      "(1, 72, 'SEAN', 'WILLIAMS')\n",
      "(1, 95, 'DARYL', 'WAHLBERG')\n",
      "(1, 194, 'MERYL', 'ALLEN')\n",
      "(1, 166, 'NICK', 'DEGENERES')\n",
      "(1, 47, 'JULIA', 'BARRYMORE')\n",
      "(1, 197, 'REESE', 'WEST')\n",
      "(1, 77, 'CARY', 'MCCONAUGHEY')\n",
      "(1, 142, 'JADA', 'RYDER')\n",
      "(1, 115, 'HARRISON', 'BALE')\n",
      "(1, 11, 'ZERO', 'CAGE')\n",
      "(1, 20, 'LUCILLE', 'TRACY')\n",
      "(1, 28, 'WOODY', 'HOFFMAN')\n",
      "(1, 192, 'JOHN', 'SUVARI')\n",
      "(1, 104, 'PENELOPE', 'CRONYN')\n",
      "(1, 5, 'JOHNNY', 'LOLLOBRIGIDA')\n",
      "(1, 91, 'CHRISTOPHER', 'BERRY')\n",
      "(1, 46, 'PARKER', 'GOLDBERG')\n",
      "(1, 114, 'MORGAN', 'MCDORMAND')\n",
      "(1, 183, 'RUSSELL', 'CLOSE')\n",
      "(1, 179, 'ED', 'GUINESS')\n",
      "(1, 4, 'JENNIFER', 'DAVIS')\n",
      "(1, 38, 'TOM', 'MCKELLEN')\n",
      "(1, 150, 'JAYNE', 'NOLTE')\n",
      "(1, 170, 'MENA', 'HOPPER')\n",
      "(1, 67, 'JESSICA', 'BAILEY')\n",
      "(1, 63, 'CAMERON', 'WRAY')\n",
      "(1, 10, 'CHRISTIAN', 'GABLE')\n",
      "(1, 33, 'MILLA', 'PECK')\n",
      "(1, 140, 'WHOOPI', 'HURT')\n",
      "(1, 1, 'PENELOPE', 'GUINESS')\n",
      "(1, 70, 'MICHELLE', 'MCCONAUGHEY')\n",
      "(1, 134, 'GENE', 'HOPKINS')\n",
      "(1, 139, 'EWAN', 'GOODING')\n"
     ]
    }
   ],
   "source": [
    "sql = '''\n",
    "  SELECT COUNT(*) as count, a.actor_id, a.first_name, a.last_name \n",
    "  FROM film f \n",
    "  JOIN film_actor fa \n",
    "  ON f.film_id = fa.film_id \n",
    "  JOIN actor a \n",
    "  ON a.actor_id = fa.actor_id \n",
    "  JOIN film_category fc \n",
    "  ON fc.film_id = f.film_id\n",
    "  JOIN category c\n",
    "  ON c.category_id = fc.category_id\n",
    "  WHERE c.name = 'Comedy'\n",
    "  GROUP BY a.actor_id\n",
    "  ORDER BY count DESC\n",
    "'''\n",
    "\n",
    "results = engine.execute(sql)\n",
    "#engine.dispose()\n",
    "rows = results.fetchall()\n",
    "\n",
    "# print some results just to see what we got\n",
    "for row in rows:\n",
    "  print(row)"
   ]
  },
  {
   "cell_type": "code",
   "execution_count": 23,
   "metadata": {},
   "outputs": [
    {
     "name": "stdout",
     "output_type": "stream",
     "text": [
      "The mean number of comedy movies by actor is 1.945578231292517\n",
      "The median number of comedy movies by actor is 2.0\n",
      "The standard deviation of appearances in comedy movies is 1.0483697283960844\n"
     ]
    }
   ],
   "source": [
    "counts = [row['count'] for row in rows]\n",
    "\n",
    "print('The mean number of comedy movies by actor is {}'.format(np.mean(counts)))\n",
    "print('The median number of comedy movies by actor is {}'.format(np.median(counts)))\n",
    "print('The standard deviation of appearances in comedy movies is {}'.format(np.std(counts)))"
   ]
  },
  {
   "cell_type": "markdown",
   "metadata": {},
   "source": [
    "## Look at the table"
   ]
  },
  {
   "cell_type": "code",
   "execution_count": 38,
   "metadata": {},
   "outputs": [
    {
     "name": "stdout",
     "output_type": "stream",
     "text": [
      "['film_id', 'title', 'description', 'release_year', 'language_id', 'original_language_id', 'rental_duration', 'rental_rate', 'length', 'replacement_cost', 'rating', 'last_update', 'special_features', 'fulltext']\n"
     ]
    }
   ],
   "source": [
    "sql = '''\n",
    "  SELECT *\n",
    "  FROM film\n",
    "  LIMIT 10\n",
    "'''\n",
    "\n",
    "table = engine.execute(sql)\n",
    "print(table.keys())\n",
    "\n",
    "engine.dispose()"
   ]
  },
  {
   "cell_type": "markdown",
   "metadata": {},
   "source": [
    "## How many movies are released for each rating?"
   ]
  },
  {
   "cell_type": "code",
   "execution_count": 43,
   "metadata": {},
   "outputs": [
    {
     "name": "stdout",
     "output_type": "stream",
     "text": [
      "('R', 195)\n",
      "('NC-17', 210)\n",
      "('PG', 194)\n",
      "('PG-13', 223)\n",
      "('G', 178)\n"
     ]
    }
   ],
   "source": [
    "sql = '''\n",
    "  SELECT rating, COUNT(rating)\n",
    "  FROM film\n",
    "  GROUP BY rating\n",
    "'''\n",
    "\n",
    "table = engine.execute(sql)\n",
    "\n",
    "rows = table.fetchall()\n",
    "\n",
    "engine.dispose()\n",
    "\n",
    "for row in rows:\n",
    "  print(row)"
   ]
  },
  {
   "cell_type": "markdown",
   "metadata": {},
   "source": [
    "## What is the average rental duration for each rating?"
   ]
  },
  {
   "cell_type": "code",
   "execution_count": 44,
   "metadata": {},
   "outputs": [
    {
     "name": "stdout",
     "output_type": "stream",
     "text": [
      "('R', Decimal('4.7743589743589744'))\n",
      "('NC-17', Decimal('5.1428571428571429'))\n",
      "('PG', Decimal('5.0824742268041237'))\n",
      "('PG-13', Decimal('5.0538116591928251'))\n",
      "('G', Decimal('4.8370786516853933'))\n"
     ]
    }
   ],
   "source": [
    "sql = '''\n",
    "  SELECT rating, AVG(rental_duration)\n",
    "  FROM film\n",
    "  GROUP BY rating\n",
    "'''\n",
    "\n",
    "table = engine.execute(sql)\n",
    "\n",
    "rows = table.fetchall()\n",
    "\n",
    "engine.dispose()\n",
    "\n",
    "for row in rows:\n",
    "  print(row)"
   ]
  },
  {
   "cell_type": "markdown",
   "metadata": {},
   "source": [
    "## What is the mean movie length? Calculate this by defining a function."
   ]
  },
  {
   "cell_type": "code",
   "execution_count": 50,
   "metadata": {},
   "outputs": [
    {
     "name": "stdout",
     "output_type": "stream",
     "text": [
      "The mean movie length in minutes is 115.272.\n"
     ]
    }
   ],
   "source": [
    "sql = '''\n",
    "  SELECT length\n",
    "  FROM film\n",
    "'''\n",
    "\n",
    "table = engine.execute(sql)\n",
    "\n",
    "rows = table.fetchall()\n",
    "\n",
    "engine.dispose()\n",
    "\n",
    "counts = [row['length'] for row in rows]\n",
    "\n",
    "print('The mean movie length in minutes is {}.'.format(np.mean(counts)))"
   ]
  },
  {
   "cell_type": "markdown",
   "metadata": {},
   "source": [
    "## What is the median movie length? Calculate this by defining a function."
   ]
  },
  {
   "cell_type": "code",
   "execution_count": 51,
   "metadata": {},
   "outputs": [
    {
     "name": "stdout",
     "output_type": "stream",
     "text": [
      "The median movie length in minutes is 114.0.\n"
     ]
    }
   ],
   "source": [
    "sql = '''\n",
    "  SELECT length\n",
    "  FROM film\n",
    "'''\n",
    "\n",
    "table = engine.execute(sql)\n",
    "\n",
    "rows = table.fetchall()\n",
    "\n",
    "engine.dispose()\n",
    "\n",
    "counts = [row['length'] for row in rows]\n",
    "\n",
    "print('The median movie length in minutes is {}.'.format(np.median(counts)))"
   ]
  },
  {
   "cell_type": "markdown",
   "metadata": {},
   "source": [
    "## Calculate the standard deviation of the movie lengths. Calculate this by defining a function."
   ]
  },
  {
   "cell_type": "code",
   "execution_count": 52,
   "metadata": {},
   "outputs": [
    {
     "name": "stdout",
     "output_type": "stream",
     "text": [
      "The standard deviation of the movie lengths in minutes is 40.40611359683086\n"
     ]
    }
   ],
   "source": [
    "sql = '''\n",
    "  SELECT length\n",
    "  FROM film\n",
    "'''\n",
    "\n",
    "table = engine.execute(sql)\n",
    "\n",
    "rows = table.fetchall()\n",
    "\n",
    "engine.dispose()\n",
    "\n",
    "counts = [row['length'] for row in rows]\n",
    "\n",
    "print('The standard deviation of the movie lengths in minutes is {}'.format(np.std(counts)))"
   ]
  },
  {
   "cell_type": "code",
   "execution_count": null,
   "metadata": {},
   "outputs": [],
   "source": []
  }
 ],
 "metadata": {
  "kernelspec": {
   "display_name": "'Python Interactive'",
   "language": "python",
   "name": "ec5171af-50f9-4022-b579-9605273787da"
  },
  "language_info": {
   "codemirror_mode": {
    "name": "ipython",
    "version": 3
   },
   "file_extension": ".py",
   "mimetype": "text/x-python",
   "name": "python",
   "nbconvert_exporter": "python",
   "pygments_lexer": "ipython3",
   "version": "3.7.2"
  }
 },
 "nbformat": 4,
 "nbformat_minor": 2
}
